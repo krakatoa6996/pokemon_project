{
  "metadata": {
    "language_info": {
      "codemirror_mode": "sql",
      "file_extension": "",
      "mimetype": "",
      "name": "sql",
      "version": "3.32.3"
    },
    "kernelspec": {
      "name": "SQLite",
      "display_name": "SQLite",
      "language": "sql"
    }
  },
  "nbformat_minor": 4,
  "nbformat": 4,
  "cells": [
    {
      "cell_type": "code",
      "source": "",
      "metadata": {},
      "execution_count": null,
      "outputs": []
    },
    {
      "cell_type": "markdown",
      "source": "# Introduction\n# Goals\nVisualizations help easily identify trends with a glance. This is important for pokemon trainers to know the best pokemon for a specific battle based on it's effectiveness against certain types. In addition to making these battletime decisions, it is interesting to showcase differing stats across generations, types, and rare pokemon which tableau provides the tools to illustrates these answers. For specific questions that can be found by querying the data set, SQL allowed me to answer these simple questions which are shown in this project as well.\n\n# Dataset/Materials\nI used the \"Pokemon with stats\" dataset from Kaggle. There were no joins necessary since all the data I wanted to analyze was present on this set. I used BigQuery to answer some non-visual questions using SQL. Excel was only used as an intermediary to transfer data from big query!\n\nCleaning the data- The data for this set did not require cleaning. A few columns were not needed but did not necessarily require the DROP function.\n\n# SQL analysis\nI had a few simpler questions I could ask without complex visualizations. As mentioned before, BigQuery allowed me to do this. One thing about BigQuery that I was accepting of is that I cannot use the DROP function to delete whole columns because the items I have wre mostly used.\n\n## What is the differece in attack between single and double type pokemon and does legendary status play a difference?\nSELECT AVG(attack) AS single_type_avg\nFROM`sql-unit-of-coursera.pokemon.Pokemon`\nWHERE type2 IS NOT NULL\n\nsingle_type_avg\n81.196642685851373\n\n\nSELECT AVG(attack) AS double_type_avg\nFROM`sql-unit-of-coursera.pokemon.Pokemon`\nWHERE type2 IS NULL\n\ndouble_type_avg\n74.231770833333357\n\n## What are the top 10 non-legendary pokemon with highest attack?\n\nSELECT name, attack\nFROM`sql-unit-of-coursera.pokemon.Pokemon`\nWHERE is_legendary = 0\nORDER BY attack DESC\nLIMIT 10\n\nname\tattack\nHeracross\t185\nGarchomp\t170\nGallade\t165\nBanette\t165\nRampardos\t165\nTyranitar\t164\nBlaziken\t160\nSlaking\t160\nPinsir\t155\nGyarados\t155\n\n## What is the average attack per for single vs double type?\n### double type\nSELECT ROUND(AVG(attack),2)\nFROM`sql-unit-of-coursera.pokemon.Pokemon`\nWHERE type2 IS NOT NULL\n\nRow\t\nf0_\n1\t\n81.2\n\n### single type\nSELECT ROUND(AVG(attack),2)\nFROM`sql-unit-of-coursera.pokemon.Pokemon`\nWHERE type2 IS NULL\n\nf0_\n74.23\n\n## What is the Average attack per Pokemon type for single type Pokemon?",
      "metadata": {
        "tags": []
      }
    },
    {
      "cell_type": "markdown",
      "source": "SELECT type1, AVG(attack) AS average_attack\nFROM`sql-unit-of-coursera.pokemon.Pokemon`\nGroup BY type1\nORDER BY average_attack DESC",
      "metadata": {}
    },
    {
      "cell_type": "markdown",
      "source": "type1\taverage_attack\ndragon\t106.4074074074074\nfighting\t99.178571428571431\nground\t94.812499999999986\nsteel\t93.083333333333329\nrock\t90.666666666666643\ndark\t87.793103448275872\nfire\t81.500000000000028\nnormal\t75.161904761904765\ngrass\t73.769230769230745\nwater\t73.307017543859615\nice\t73.304347826086953\nghost\t72.740740740740748\npoison\t72.656249999999986\nelectric\t70.820512820512818\nbug\t70.125000000000014\nflying\t66.666666666666671\npsychic\t65.566037735849065\nfairy\t62.111111111111107\n\n\n\n## BigQuery has an error where an analyst may not be able to process a cast if there are null results. Using the safe_cast allows us to process this. In each of the following queries for capture rates I had to use this because I received errors when just using the CAST function.\n\n## What is the ranking for each Pokemon type for capture rates?\nSELECT type1, ROUND(AVG(CAST(attack AS INT64)),3) AS average_attack\nFROM`sql-unit-of-coursera.pokemon.Pokemon`\nGroup BY type1\nORDER BY average_attack DESC\n\ntype1\taverage_attack\ndragon\t106.41\nfighting\t99.18\nground\t94.81\nsteel\t93.08\nrock\t90.67\ndark\t87.79\nfire\t81.5\nnormal\t75.16\ngrass\t73.77\nwater\t73.31\nice\t73.3\nghost\t72.74\npoison\t72.66\nelectric\t70.82\nbug\t70.13\nflying\t66.67\npsychic\t65.57\nfairy\t62.11\n\n## What are the average capture rates for legendary vs non-legendary Pokemon?\nSELECT is_legendary, ROUND(AVG(safe_cast(capture_rate AS numeric))) AS capture_rate\nFROM`sql-unit-of-coursera.pokemon.Pokemon`\nGroup BY is_legendary\nORDER BY capture_rate DESC\n\nis_legendary\tcapture_rate\n0\t107\n1\t18",
      "metadata": {}
    },
    {
      "cell_type": "markdown",
      "source": "# [Vizualizations](https://public.tableau.com/views/pokemon_1_16786572814910/Dashboard1?:language=en-US&:display_count=n&:origin=viz_share_link) - Click the Visualizations hyperlink to be routed to by Tableau public page for these charts.\n\t• Pokémon stat search - This chart provides an analysis by filtering one specific pokemon and examining it's strengths and weaknesses in battle. This is an especially important feature for analyzing dual type pokemon.\n\t• Attack vs defense-provides a full showcase of all pokemon on a scatter plot and where they plot on a chart that has attack on the x-axis and defense on the y-axis. It is helpful to see which pokemon will be best fit for the job in comparison to wide number of pokemon across all generations. A special feature of this tool is the filters: legendary and non-legendary switches as well as filtering by type. What if I want to see the highest attack steel pokemon? It is actually a non-legendary poklemon known as Aegislash.\n\t• Stats by generation - Some players are curious to know which generation is the strongest. This depends on which attribute is being measured. On this chart I have the generations listed on the x-axis and the attirbute value on the y axis. Putting all the different attritubtes on the same axis can sacrifice clarity on values being meauresed for an easy to read analysis of each generation.",
      "metadata": {}
    }
  ]
}